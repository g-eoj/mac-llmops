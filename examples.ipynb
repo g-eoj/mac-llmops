{
 "cells": [
  {
   "cell_type": "code",
   "execution_count": 1,
   "id": "6fccd576-4519-4cf6-b736-eacd12802d6a",
   "metadata": {},
   "outputs": [],
   "source": [
    "import mac_llmops\n",
    "\n",
    "\n",
    "models = mac_llmops.Models(cache_dir=None, max_vram_bytes=None)"
   ]
  },
  {
   "cell_type": "code",
   "execution_count": 4,
   "id": "c7937d89-8996-48be-9775-a50e14cf769a",
   "metadata": {},
   "outputs": [
    {
     "data": {
      "text/plain": [
       "['mlx-community/phi-4-bf16',\n",
       " 'mlx-community/Meta-Llama-3.1-8B-Instruct-bf16',\n",
       " 'ibm-granite/granite-3.1-8b-instruct',\n",
       " 'mlx-community/Qwen2.5-Coder-14B-Instruct-bf16',\n",
       " 'microsoft/Phi-3-medium-128k-instruct',\n",
       " 'mlx-community/Llama-3.2-3B-Instruct']"
      ]
     },
     "execution_count": 4,
     "metadata": {},
     "output_type": "execute_result"
    }
   ],
   "source": [
    "models.list()"
   ]
  },
  {
   "cell_type": "code",
   "execution_count": 7,
   "id": "6e180376-bb71-40a7-b3e3-b8006d8235ab",
   "metadata": {},
   "outputs": [
    {
     "data": {
      "text/plain": [
       "[]"
      ]
     },
     "execution_count": 7,
     "metadata": {},
     "output_type": "execute_result"
    }
   ],
   "source": [
    "models.search_local(\"mlx llama 3.2 bf16\")"
   ]
  },
  {
   "cell_type": "code",
   "execution_count": 8,
   "id": "aa563267-0a62-4768-97d0-10d066ac21a6",
   "metadata": {},
   "outputs": [
    {
     "data": {
      "text/plain": [
       "['mlx-community/Llama-3.2-1B-Instruct-bf16',\n",
       " 'mlx-community/Llama-3.2-3B-Instruct-bf16',\n",
       " 'mlx-community/Llama-3.2-3B-bf16',\n",
       " 'mlx-community/Hermes-3-Llama-3.2-3B-bf16']"
      ]
     },
     "execution_count": 8,
     "metadata": {},
     "output_type": "execute_result"
    }
   ],
   "source": [
    "models.search_online(\"mlx llama 3.2 bf16\")"
   ]
  },
  {
   "cell_type": "code",
   "execution_count": 9,
   "id": "17349af0-a902-4fb8-84f6-91e0c2c46541",
   "metadata": {},
   "outputs": [
    {
     "data": {
      "application/vnd.jupyter.widget-view+json": {
       "model_id": "7ac6fa774a4048aca247da731904ac0f",
       "version_major": 2,
       "version_minor": 0
      },
      "text/plain": [
       "Fetching 8 files:   0%|          | 0/8 [00:00<?, ?it/s]"
      ]
     },
     "metadata": {},
     "output_type": "display_data"
    },
    {
     "data": {
      "application/vnd.jupyter.widget-view+json": {
       "model_id": "f065253126514d668ffee93fbe7bf209",
       "version_major": 2,
       "version_minor": 0
      },
      "text/plain": [
       "tokenizer_config.json:   0%|          | 0.00/54.5k [00:00<?, ?B/s]"
      ]
     },
     "metadata": {},
     "output_type": "display_data"
    },
    {
     "data": {
      "application/vnd.jupyter.widget-view+json": {
       "model_id": "e0790c1feb43462ab3890701cf8e3c70",
       "version_major": 2,
       "version_minor": 0
      },
      "text/plain": [
       "special_tokens_map.json:   0%|          | 0.00/296 [00:00<?, ?B/s]"
      ]
     },
     "metadata": {},
     "output_type": "display_data"
    },
    {
     "data": {
      "application/vnd.jupyter.widget-view+json": {
       "model_id": "5edb5d6c94aa4e26867d1b1f9d99e6ae",
       "version_major": 2,
       "version_minor": 0
      },
      "text/plain": [
       "config.json:   0%|          | 0.00/969 [00:00<?, ?B/s]"
      ]
     },
     "metadata": {},
     "output_type": "display_data"
    },
    {
     "data": {
      "application/vnd.jupyter.widget-view+json": {
       "model_id": "07d896a8ebdb4494a6d648c031d5bc17",
       "version_major": 2,
       "version_minor": 0
      },
      "text/plain": [
       "model.safetensors.index.json:   0%|          | 0.00/21.9k [00:00<?, ?B/s]"
      ]
     },
     "metadata": {},
     "output_type": "display_data"
    },
    {
     "data": {
      "application/vnd.jupyter.widget-view+json": {
       "model_id": "6e5272a78d9045a7946ef0ec2887b04b",
       "version_major": 2,
       "version_minor": 0
      },
      "text/plain": [
       "tokenizer.json:   0%|          | 0.00/9.09M [00:00<?, ?B/s]"
      ]
     },
     "metadata": {},
     "output_type": "display_data"
    },
    {
     "data": {
      "application/vnd.jupyter.widget-view+json": {
       "model_id": "f7964c79783240f29d97fa80f2b92ece",
       "version_major": 2,
       "version_minor": 0
      },
      "text/plain": [
       "README.md:   0%|          | 0.00/16.0k [00:00<?, ?B/s]"
      ]
     },
     "metadata": {},
     "output_type": "display_data"
    },
    {
     "data": {
      "application/vnd.jupyter.widget-view+json": {
       "model_id": "68a4aa040b8742ed9468abdf5a0b31c0",
       "version_major": 2,
       "version_minor": 0
      },
      "text/plain": [
       "model-00002-of-00002.safetensors:   0%|          | 0.00/1.06G [00:00<?, ?B/s]"
      ]
     },
     "metadata": {},
     "output_type": "display_data"
    },
    {
     "data": {
      "application/vnd.jupyter.widget-view+json": {
       "model_id": "9497fa22c36844bc9a0899011bcf9774",
       "version_major": 2,
       "version_minor": 0
      },
      "text/plain": [
       "model-00001-of-00002.safetensors:   0%|          | 0.00/5.37G [00:00<?, ?B/s]"
      ]
     },
     "metadata": {},
     "output_type": "display_data"
    }
   ],
   "source": [
    "models.add(\"mlx-community/Llama-3.2-3B-Instruct-bf16\")"
   ]
  },
  {
   "cell_type": "code",
   "execution_count": 10,
   "id": "f2518c29-db28-4d26-92f1-33b1fea8d953",
   "metadata": {},
   "outputs": [
    {
     "data": {
      "text/plain": [
       "['mlx-community/Llama-3.2-3B-Instruct-bf16']"
      ]
     },
     "execution_count": 10,
     "metadata": {},
     "output_type": "execute_result"
    }
   ],
   "source": [
    "models.search_local(\"mlx llama 3.2 bf16\")"
   ]
  },
  {
   "cell_type": "code",
   "execution_count": 11,
   "id": "b14d6c7d-a055-4ac3-bb45-c0012693ca27",
   "metadata": {},
   "outputs": [],
   "source": [
    "models.delete(\"mlx-community/Llama-3.2-3B-Instruct-bf16\")"
   ]
  },
  {
   "cell_type": "code",
   "execution_count": 12,
   "id": "cff3fef4-049b-4bba-9a1e-89b859932ebb",
   "metadata": {},
   "outputs": [
    {
     "data": {
      "text/plain": [
       "[]"
      ]
     },
     "execution_count": 12,
     "metadata": {},
     "output_type": "execute_result"
    }
   ],
   "source": [
    "models.search_local(\"mlx llama 3.2 bf16\")"
   ]
  }
 ],
 "metadata": {
  "kernelspec": {
   "display_name": "Python 3 (ipykernel)",
   "language": "python",
   "name": "python3"
  },
  "language_info": {
   "codemirror_mode": {
    "name": "ipython",
    "version": 3
   },
   "file_extension": ".py",
   "mimetype": "text/x-python",
   "name": "python",
   "nbconvert_exporter": "python",
   "pygments_lexer": "ipython3",
   "version": "3.12.7"
  }
 },
 "nbformat": 4,
 "nbformat_minor": 5
}
